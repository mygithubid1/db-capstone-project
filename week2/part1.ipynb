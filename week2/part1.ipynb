{
 "cells": [
  {
   "cell_type": "code",
   "execution_count": 1,
   "metadata": {
    "collapsed": true
   },
   "outputs": [
    {
     "name": "stdout",
     "output_type": "stream",
     "text": [
      "Connector version: 8.0.32\n",
      "Server version: 8.0.32\n"
     ]
    }
   ],
   "source": [
    "import mysql.connector as connector\n",
    "from mysql.connector import Error\n",
    "\n",
    "from utils import get_default_connection_config, get_default_database, print_environment_info, print_rows\n",
    "\n",
    "try:\n",
    "    connection = connector.connect(**get_default_connection_config(database=get_default_database()))\n",
    "    print_environment_info(connection)\n",
    "    cursor = connection.cursor()\n",
    "except Error as e:\n",
    "    print(f'Error: {e.errno}: {e.msg}')"
   ]
  },
  {
   "cell_type": "code",
   "execution_count": 2,
   "outputs": [
    {
     "name": "stdout",
     "output_type": "stream",
     "text": [
      "Selecting all rows from OrdersView\n",
      "----------------------------------\n",
      "OrderID - Quantity - Cost\n",
      "15 - 4 - 394.08\n",
      "2 - 4 - 324.40\n",
      "7 - 3 - 295.56\n",
      "3 - 4 - 246.40\n",
      "5 - 3 - 211.38\n",
      "13 - 4 - 51.88\n",
      "1 - 3 - 34.86\n",
      "8 - 3 - 34.86\n",
      "11 - 3 - 34.86\n"
     ]
    }
   ],
   "source": [
    "cursor.execute(\"\"\"CREATE OR REPLACE VIEW OrdersView AS\n",
    "SELECT OrderID, Quantity, TotalCost as Cost FROM Orders\n",
    "WHERE Quantity > 2\n",
    "ORDER BY Cost DESC ;\n",
    "\"\"\")\n",
    "\n",
    "print_rows(\n",
    "    title='Selecting all rows from OrdersView',\n",
    "    cursor=cursor,\n",
    "    query=\"SELECT * FROM OrdersView\"\n",
    ")"
   ],
   "metadata": {
    "collapsed": false
   }
  },
  {
   "cell_type": "code",
   "execution_count": 3,
   "outputs": [
    {
     "name": "stdout",
     "output_type": "stream",
     "text": [
      "Selecting rows from all joins\n",
      "-----------------------------\n",
      "CustomerID - FullName - OrderID - Cost - MenuName - CourseName - StarterName\n",
      "2 - Full Name 1 - 16 - 162.20 - Menu 1 - Course 0 - Starter 2 for Course 0\n",
      "4 - Full Name 3 - 5 - 211.38 - Menu 2 - Course 0 - Starter 3 for Course 0\n",
      "4 - Full Name 3 - 3 - 246.40 - Menu 3 - Course 0 - Starter 0 for Course 0\n",
      "1 - Full Name 0 - 7 - 295.56 - Menu 1 - Course 3 - Starter 0 for Course 3\n",
      "2 - Full Name 1 - 2 - 324.40 - Menu 1 - Course 0 - Starter 2 for Course 0\n",
      "3 - Full Name 2 - 15 - 394.08 - Menu 1 - Course 3 - Starter 0 for Course 3\n"
     ]
    }
   ],
   "source": [
    "# Task 2\n",
    "query = \"\"\"\n",
    "SELECT c.CustomerID, c.FullName,\n",
    "       o.OrderID, o.TotalCost as Cost,\n",
    "       m.MenuName,\n",
    "       mi.CourseName, mi.StarterName\n",
    "FROM Customers c INNER JOIN Orders o INNER JOIN Menus m INNER JOIN MenuItems mi INNER JOIN MenusAndMenuItems mmi\n",
    "ON\n",
    "    o.CustomerID = c.CustomerID AND\n",
    "    mmi.MenuID = m.MenuID AND\n",
    "    mi.MenuItemID = mmi.MenuItemID AND\n",
    "    mmi.MenusAndMenuItemsID = o.MenusAndMenuItemsID\n",
    "WHERE\n",
    "    o.TotalCost > 150\n",
    "ORDER BY Cost;\n",
    "\"\"\"\n",
    "\n",
    "print_rows(\n",
    "    title='Selecting rows from all joins',\n",
    "    cursor=cursor,\n",
    "    query=query\n",
    ")"
   ],
   "metadata": {
    "collapsed": false
   }
  },
  {
   "cell_type": "code",
   "execution_count": 4,
   "outputs": [
    {
     "name": "stdout",
     "output_type": "stream",
     "text": [
      "Menu names for which more than 2 orders have been placed\n",
      "--------------------------------------------------------\n",
      "MenuName\n",
      "Menu 1\n",
      "Menu 2\n",
      "Menu 3\n"
     ]
    }
   ],
   "source": [
    "\n",
    "# Task 3\n",
    "# The order by clause is to make output more readable\n",
    "query = \"\"\"\n",
    "SELECT MenuName from Menus WHERE MenuID = ANY(\n",
    "    SELECT m.MenuID\n",
    "    FROM Orders o INNER JOIN MenusAndMenuItems mmi INNER JOIN Menus m ON\n",
    "    mmi.MenuID = m.MenuID AND\n",
    "    mmi.MenusAndMenuItemsID = o.MenusAndMenuItemsID\n",
    "    WHERE Quantity > 2\n",
    ") ORDER BY MenuName;\n",
    "\"\"\"\n",
    "\n",
    "print_rows(\n",
    "    title='Menu names for which more than 2 orders have been placed',\n",
    "    cursor=cursor,\n",
    "    query=query\n",
    ")"
   ],
   "metadata": {
    "collapsed": false
   }
  },
  {
   "cell_type": "code",
   "execution_count": 5,
   "outputs": [],
   "source": [
    "assert cursor.close()\n",
    "assert connection.close() is None"
   ],
   "metadata": {
    "collapsed": false
   }
  }
 ],
 "metadata": {
  "kernelspec": {
   "display_name": "Python 3",
   "language": "python",
   "name": "python3"
  },
  "language_info": {
   "codemirror_mode": {
    "name": "ipython",
    "version": 2
   },
   "file_extension": ".py",
   "mimetype": "text/x-python",
   "name": "python",
   "nbconvert_exporter": "python",
   "pygments_lexer": "ipython2",
   "version": "2.7.6"
  }
 },
 "nbformat": 4,
 "nbformat_minor": 0
}
