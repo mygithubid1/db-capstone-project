{
 "cells": [
  {
   "cell_type": "code",
   "execution_count": 1,
   "outputs": [
    {
     "name": "stdout",
     "output_type": "stream",
     "text": [
      "Connector version: 8.0.32\n",
      "Server version: 8.0.32\n",
      "Creating a standard cursor\n"
     ]
    }
   ],
   "source": [
    "# Task 1\n",
    "import mysql.connector as connector\n",
    "from mysql.connector import Error\n",
    "import numpy as np\n",
    "from dataclasses import dataclass\n",
    "\n",
    "from utils import get_default_connection_config, get_default_database, print_environment_info\n",
    "\n",
    "try:\n",
    "    connection = connector.connect(**get_default_connection_config(get_default_database()))\n",
    "    print_environment_info(connection)\n",
    "    print('Creating a standard cursor')\n",
    "    cursor = connection.cursor()\n",
    "except Error as e:\n",
    "    print(f'Error: {e.errno}: {e.msg}')"
   ],
   "metadata": {
    "collapsed": false
   }
  },
  {
   "cell_type": "code",
   "execution_count": 2,
   "outputs": [],
   "source": [
    "@dataclass\n",
    "class Config:\n",
    "    NUM_COURSES = 10\n",
    "    NUM_CUSTOMERS = 5\n",
    "    NUM_MENUS = 4\n",
    "    NUM_ORDERS = 20"
   ],
   "metadata": {
    "collapsed": false
   }
  },
  {
   "cell_type": "code",
   "execution_count": 3,
   "outputs": [
    {
     "name": "stdout",
     "output_type": "stream",
     "text": [
      "Populating table MenuItems\n"
     ]
    }
   ],
   "source": [
    "print('Populating table MenuItems')\n",
    "\n",
    "np.random.seed(42)\n",
    "menu_items = []\n",
    "for course_index in range(Config.NUM_COURSES):\n",
    "    num_dishes = np.random.randint(low=2, high=5)\n",
    "    unit_prices = np.random.randint(low=10, high=100, size=num_dishes) + np.random.random(size=num_dishes)\n",
    "    for menuitem_id, unit_price in enumerate(unit_prices):\n",
    "        menu_items.append({\n",
    "            'course_name': f'Course {course_index}',\n",
    "            'starter_name': f'Starter {menuitem_id} for Course {course_index}',\n",
    "            'desert_name': f'Desert {menuitem_id} for Course {course_index}',\n",
    "            'unit_price': unit_price\n",
    "        })\n",
    "\n",
    "cursor.executemany(\"\"\"\n",
    "INSERT INTO MenuItems (CourseName, StarterName, DesertName, UnitPrice)\n",
    "VALUES\n",
    "(%(course_name)s, %(starter_name)s, %(desert_name)s, %(unit_price)s\n",
    ");\"\"\", menu_items)\n",
    "\n",
    "cursor.execute(\"COMMIT\")"
   ],
   "metadata": {
    "collapsed": false
   }
  },
  {
   "cell_type": "code",
   "execution_count": 4,
   "outputs": [
    {
     "name": "stdout",
     "output_type": "stream",
     "text": [
      "Populating table Menu\n"
     ]
    }
   ],
   "source": [
    "\n",
    "print('Populating table Menu')\n",
    "menus = []\n",
    "for menu_index in range(Config.NUM_MENUS):\n",
    "    menus.append({\n",
    "        'menu_name': f'Menu {menu_index}',\n",
    "        'cuisine': f'Cuisine for {menu_index}',\n",
    "    })\n",
    "cursor.executemany(\"\"\"\n",
    "INSERT INTO Menus (MenuName, Cuisine)\n",
    "VALUES\n",
    "(%(menu_name)s, %(cuisine)s\n",
    ");\"\"\", menus)\n",
    "cursor.execute(\"COMMIT\")"
   ],
   "metadata": {
    "collapsed": false
   }
  },
  {
   "cell_type": "code",
   "execution_count": 5,
   "outputs": [
    {
     "name": "stdout",
     "output_type": "stream",
     "text": [
      "Populating table MenusAndMenuItems\n"
     ]
    }
   ],
   "source": [
    "print('Populating table MenusAndMenuItems')\n",
    "\n",
    "np.random.seed(42)\n",
    "menu_and_menu_items = []\n",
    "visited_menu_item_ids = set()\n",
    "for menu_id in range(1, Config.NUM_MENUS + 1):\n",
    "    num_dishes = np.random.randint(low=1, high=4)\n",
    "    visited_menu_menuitem_mappings = set()\n",
    "    for _ in range(num_dishes):\n",
    "        while True:\n",
    "            menuitem_id = np.random.randint(low=1, high=Config.NUM_COURSES + 1)\n",
    "            mapping = (menu_id, menuitem_id)\n",
    "            if mapping not in visited_menu_menuitem_mappings:\n",
    "                visited_menu_menuitem_mappings.add(mapping)\n",
    "                visited_menu_item_ids.add(menuitem_id)\n",
    "                break\n",
    "    for menu_id, menuitem_id in visited_menu_menuitem_mappings:\n",
    "        menu_and_menu_items.append({\n",
    "            'menu_id': menu_id,\n",
    "            'menu_item_id': menuitem_id,\n",
    "        })\n",
    "\n",
    "all_menu_item_ids = set(range(1, Config.NUM_COURSES + 1))\n",
    "left_over_menu_items = all_menu_item_ids - visited_menu_item_ids\n",
    "for menuitem_id in left_over_menu_items:\n",
    "    menu_and_menu_items.append({\n",
    "        'menu_id': np.random.randint(low=1, high=Config.NUM_MENUS + 1),\n",
    "        'menu_item_id': menuitem_id,\n",
    "    })\n",
    "cursor.executemany(\"\"\"\n",
    "INSERT INTO MenusAndMenuItems (MenuID, MenuItemID)\n",
    "VALUES\n",
    "(%(menu_id)s, %(menu_item_id)s\n",
    ");\"\"\", menu_and_menu_items)\n",
    "\n",
    "cursor.execute(\"COMMIT\")"
   ],
   "metadata": {
    "collapsed": false
   }
  },
  {
   "cell_type": "code",
   "execution_count": 6,
   "outputs": [
    {
     "name": "stdout",
     "output_type": "stream",
     "text": [
      "Populating table Customers\n"
     ]
    }
   ],
   "source": [
    "print('Populating table Customers')\n",
    "\n",
    "np.random.seed(42)\n",
    "customers = []\n",
    "for customer_idx in range(Config.NUM_CUSTOMERS):\n",
    "    customers.append({\n",
    "        'fullname': f'Full Name {customer_idx}',\n",
    "        'contact_number': f'1{\"\".join(map(str, np.random.randint(low=0, high=10, size=9)))}',\n",
    "        'email': f'customer_{customer_idx}@domain.com'\n",
    "    })\n",
    "\n",
    "cursor.executemany(\"\"\"\n",
    "INSERT INTO Customers (FullName, ContactNumber, Email)\n",
    "VALUES\n",
    "(%(fullname)s, %(contact_number)s, %(email)s\n",
    ");\"\"\", customers)\n",
    "\n",
    "cursor.execute(\"COMMIT\")"
   ],
   "metadata": {
    "collapsed": false
   }
  },
  {
   "cell_type": "code",
   "execution_count": 7,
   "outputs": [
    {
     "name": "stdout",
     "output_type": "stream",
     "text": [
      "Populating table Orders\n"
     ]
    }
   ],
   "source": [
    "print('Populating table Orders')\n",
    "\n",
    "np.random.seed(42)\n",
    "orders = []\n",
    "exact_ordered_items = np.random.randint(low=1, high=len(menu_and_menu_items) + 1, size=Config.NUM_ORDERS).tolist()\n",
    "customer_ids = np.random.randint(low=1, high=Config.NUM_CUSTOMERS + 1, size=Config.NUM_ORDERS).tolist()\n",
    "quantities = np.random.randint(low=1, high=5, size=Config.NUM_ORDERS).tolist()\n",
    "total_costs = []\n",
    "for menu_and_menuitem_id, customer_id, quantity in zip(exact_ordered_items, customer_ids, quantities):\n",
    "    cursor.execute(f\"\"\"\n",
    "    SELECT mi.UnitPrice FROM MenuItems mi INNER JOIN MenusAndMenuItems mmi\n",
    "    ON mi.MenuItemID = mmi.MenuItemID\n",
    "    WHERE mmi.MenusAndMenuItemsID = {menu_and_menuitem_id}\n",
    "    \"\"\")\n",
    "    cost_of_menuitem = cursor.fetchone()[0]\n",
    "    total_costs.append(cost_of_menuitem * quantity)\n",
    "\n",
    "orders = list(zip(exact_ordered_items, customer_ids, quantities, total_costs))\n",
    "cursor.executemany(\"\"\"\n",
    "INSERT INTO Orders (MenusAndMenuItemsID, CustomerID, Quantity, TotalCost)\n",
    "VALUES\n",
    "(%s, %s, %s, %s\n",
    ");\"\"\", orders)\n",
    "\n",
    "cursor.execute(\"COMMIT\")"
   ],
   "metadata": {
    "collapsed": false
   }
  },
  {
   "cell_type": "code",
   "execution_count": 8,
   "outputs": [],
   "source": [
    "assert cursor.close()\n",
    "assert connection.close() is None"
   ],
   "metadata": {
    "collapsed": false
   }
  }
 ],
 "metadata": {
  "kernelspec": {
   "display_name": "Python 3",
   "language": "python",
   "name": "python3"
  },
  "language_info": {
   "codemirror_mode": {
    "name": "ipython",
    "version": 2
   },
   "file_extension": ".py",
   "mimetype": "text/x-python",
   "name": "python",
   "nbconvert_exporter": "python",
   "pygments_lexer": "ipython2",
   "version": "2.7.6"
  }
 },
 "nbformat": 4,
 "nbformat_minor": 0
}
