{
 "cells": [
  {
   "cell_type": "code",
   "execution_count": 1,
   "metadata": {
    "collapsed": true
   },
   "outputs": [
    {
     "name": "stdout",
     "output_type": "stream",
     "text": [
      "Connector version: 8.0.32\n",
      "Server version: 8.0.32\n"
     ]
    }
   ],
   "source": [
    "import mysql.connector as connector\n",
    "from mysql.connector import Error\n",
    "\n",
    "from utils import get_default_connection_config, get_default_database, print_environment_info, print_rows, \\\n",
    "    call_procedure\n",
    "\n",
    "try:\n",
    "    connection = connector.connect(**get_default_connection_config(database=get_default_database()))\n",
    "    print_environment_info(connection)\n",
    "    cursor = connection.cursor()\n",
    "except Error as e:\n",
    "    print(f'Error: {e.errno}: {e.msg}')"
   ]
  },
  {
   "cell_type": "code",
   "execution_count": 2,
   "outputs": [
    {
     "name": "stdout",
     "output_type": "stream",
     "text": [
      "Max Quantity in Order\n",
      "4\n"
     ]
    }
   ],
   "source": [
    "# Task 1\n",
    "cursor.execute(\"DROP PROCEDURE IF EXISTS GetMaxQuantity\")\n",
    "cursor.execute(\"\"\"\n",
    "CREATE PROCEDURE GetMaxQuantity()\n",
    "SELECT\n",
    "    MAX(Quantity) AS \"Max Quantity in Order\"\n",
    "FROM Orders\n",
    "\"\"\")\n",
    "call_procedure('GetMaxQuantity', cursor)"
   ],
   "metadata": {
    "collapsed": false
   }
  },
  {
   "cell_type": "code",
   "execution_count": 3,
   "outputs": [
    {
     "name": "stdout",
     "output_type": "stream",
     "text": [
      "Prepared statement usage\n",
      "------------------------\n",
      "OrderID - Quantity - Cost\n",
      "7 - 3 - 295.56\n",
      "12 - 2 - 25.94\n",
      "13 - 4 - 51.88\n"
     ]
    }
   ],
   "source": [
    "# Task 2\n",
    "cursor.execute(\"\"\"\n",
    "PREPARE GetOrderDetail FROM 'SELECT OrderID, Quantity, TotalCost as Cost FROM Orders WHERE CustomerID = ?';\n",
    "\"\"\")\n",
    "cursor.execute(\"SET @id = 1\")\n",
    "query = \"\"\"\n",
    "EXECUTE GetOrderDetail USING @id\n",
    "\"\"\"\n",
    "print_rows(title='Prepared statement usage',\n",
    "           query=query,\n",
    "           cursor=cursor)"
   ],
   "metadata": {
    "collapsed": false
   }
  },
  {
   "cell_type": "code",
   "execution_count": 4,
   "outputs": [
    {
     "name": "stdout",
     "output_type": "stream",
     "text": [
      "Before removing order with id 1\n",
      "-------------------------------\n",
      "COUNT(OrderID)\n",
      "1\n",
      "After removing order with id 1\n",
      "------------------------------\n",
      "COUNT(OrderID)\n",
      "0\n"
     ]
    }
   ],
   "source": [
    "# Task 3\n",
    "cursor.execute(\"DROP PROCEDURE IF EXISTS CancelOrder;\")\n",
    "cursor.execute(\"\"\"CREATE PROCEDURE CancelOrder(IN cancelOrderId INT UNSIGNED)\n",
    "DELETE FROM Orders WHERE OrderId = cancelOrderId;\n",
    "\"\"\")\n",
    "\n",
    "order_id_to_cancel = 1\n",
    "print_rows(title=f'Before removing order with id {order_id_to_cancel}',\n",
    "           query='SELECT COUNT(OrderID) FROM Orders WHERE OrderID = 1',\n",
    "           cursor=cursor)\n",
    "cursor.callproc('CancelOrder', args=[1])\n",
    "print_rows(title=f'After removing order with id {order_id_to_cancel}',\n",
    "           query='SELECT COUNT(OrderID) FROM Orders WHERE OrderID = 1',\n",
    "           cursor=cursor)"
   ],
   "metadata": {
    "collapsed": false
   }
  },
  {
   "cell_type": "code",
   "execution_count": 5,
   "outputs": [],
   "source": [
    "assert cursor.close()\n",
    "assert connection.close() is None"
   ],
   "metadata": {
    "collapsed": false
   }
  }
 ],
 "metadata": {
  "kernelspec": {
   "display_name": "Python 3",
   "language": "python",
   "name": "python3"
  },
  "language_info": {
   "codemirror_mode": {
    "name": "ipython",
    "version": 2
   },
   "file_extension": ".py",
   "mimetype": "text/x-python",
   "name": "python",
   "nbconvert_exporter": "python",
   "pygments_lexer": "ipython2",
   "version": "2.7.6"
  }
 },
 "nbformat": 4,
 "nbformat_minor": 0
}
