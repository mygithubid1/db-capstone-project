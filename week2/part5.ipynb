{
 "cells": [
  {
   "cell_type": "code",
   "execution_count": 1,
   "metadata": {
    "collapsed": true
   },
   "outputs": [
    {
     "name": "stdout",
     "output_type": "stream",
     "text": [
      "Connector version: 8.0.32\n",
      "Server version: 8.0.32\n"
     ]
    }
   ],
   "source": [
    "# Task 1\n",
    "import mysql.connector as connector\n",
    "from mysql.connector import Error\n",
    "\n",
    "from utils import get_default_connection_config, get_default_database, print_environment_info, print_rows\n",
    "\n",
    "try:\n",
    "    connection = connector.connect(**get_default_connection_config(get_default_database()))\n",
    "    print_environment_info(connection)\n",
    "    cursor = connection.cursor()\n",
    "except Error as e:\n",
    "    print(f'Error: {e.errno}: {e.msg}')"
   ]
  },
  {
   "cell_type": "code",
   "execution_count": 2,
   "outputs": [
    {
     "name": "stdout",
     "output_type": "stream",
     "text": [
      "Showing all tables\n",
      "------------------\n",
      "Tables_in_LittleLemonDB\n",
      "Bookings\n",
      "Customers\n",
      "MenuItems\n",
      "Menus\n",
      "MenusAndMenuItems\n",
      "OrderDeliveryStatus\n",
      "Orders\n",
      "OrdersView\n",
      "Staffs\n"
     ]
    }
   ],
   "source": [
    "# Task 2\n",
    "print_rows(\n",
    "    title='Showing all tables',\n",
    "    cursor=cursor,\n",
    "    query=\"SHOW TABLES\"\n",
    ")"
   ],
   "metadata": {
    "collapsed": false
   }
  },
  {
   "cell_type": "code",
   "execution_count": 3,
   "outputs": [
    {
     "name": "stdout",
     "output_type": "stream",
     "text": [
      "full name and contact details for every customer that has placed an order greater than $60 for a promotional campaign\n",
      "---------------------------------------------------------------------------------------------------------------------\n",
      "FullName - ContactNumber - Email\n",
      "Full Name 0 - 1637469267 - customer_0@domain.com\n",
      "Full Name 1 - 1437725417 - customer_1@domain.com\n",
      "Full Name 2 - 1514095809 - customer_2@domain.com\n",
      "Full Name 3 - 1263824264 - customer_3@domain.com\n",
      "Full Name 4 - 1861381989 - customer_4@domain.com\n"
     ]
    }
   ],
   "source": [
    "# Task 3\n",
    "# Please note that DISTINCT and ORDER BY are added to make output more readable\n",
    "\n",
    "query = \"\"\"\n",
    "SELECT DISTINCT c.FullName, c.ContactNumber, c.Email\n",
    "    FROM Customers c INNER JOIN Orders o\n",
    "    ON c.CustomerID = o.CustomerID\n",
    "WHERE o.TotalCost > 60\n",
    "ORDER BY c.FullName;\n",
    "\"\"\"\n",
    "\n",
    "print_rows(\n",
    "    title='full name and contact details for every customer that has placed an order greater than $60 for a promotional campaign',\n",
    "    cursor=cursor,\n",
    "    query=query\n",
    ")"
   ],
   "metadata": {
    "collapsed": false
   }
  },
  {
   "cell_type": "code",
   "execution_count": 4,
   "outputs": [],
   "source": [
    "assert cursor.close()\n",
    "assert connection.close() is None"
   ],
   "metadata": {
    "collapsed": false
   }
  }
 ],
 "metadata": {
  "kernelspec": {
   "display_name": "Python 3",
   "language": "python",
   "name": "python3"
  },
  "language_info": {
   "codemirror_mode": {
    "name": "ipython",
    "version": 2
   },
   "file_extension": ".py",
   "mimetype": "text/x-python",
   "name": "python",
   "nbconvert_exporter": "python",
   "pygments_lexer": "ipython2",
   "version": "2.7.6"
  }
 },
 "nbformat": 4,
 "nbformat_minor": 0
}
